{
 "cells": [
  {
   "cell_type": "code",
   "execution_count": 2,
   "id": "fca3d145",
   "metadata": {},
   "outputs": [],
   "source": [
    "import pandas as pd\n",
    "\n",
    "df = pd.read_csv(\"../data/raw/power_demand_arrange.csv\")\n",
    "df[\"날짜\"] = pd.to_datetime(df[\"날짜\"])"
   ]
  },
  {
   "cell_type": "code",
   "execution_count": 3,
   "id": "f7a6015e",
   "metadata": {},
   "outputs": [],
   "source": [
    "import datetime as dt\n",
    "\n",
    "train_data = df[df[\"날짜\"] < dt.datetime(2023, 1, 1)]\n",
    "stream_data = df[df[\"날짜\"] >= dt.datetime(2023, 1, 1)]"
   ]
  },
  {
   "cell_type": "code",
   "execution_count": 4,
   "id": "0d4662f3",
   "metadata": {},
   "outputs": [],
   "source": [
    "train_data.to_csv(\"../data/processed/train.csv\", index=False)\n",
    "stream_data.to_csv(\"../data/processed/stream.csv\", index=False)"
   ]
  },
  {
   "cell_type": "code",
   "execution_count": null,
   "id": "ccc23114",
   "metadata": {},
   "outputs": [],
   "source": []
  }
 ],
 "metadata": {
  "kernelspec": {
   "display_name": "power",
   "language": "python",
   "name": "python3"
  },
  "language_info": {
   "codemirror_mode": {
    "name": "ipython",
    "version": 3
   },
   "file_extension": ".py",
   "mimetype": "text/x-python",
   "name": "python",
   "nbconvert_exporter": "python",
   "pygments_lexer": "ipython3",
   "version": "3.10.18"
  }
 },
 "nbformat": 4,
 "nbformat_minor": 5
}
